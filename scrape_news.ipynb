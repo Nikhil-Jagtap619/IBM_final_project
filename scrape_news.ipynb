{
 "cells": [
  {
   "cell_type": "code",
   "execution_count": 2,
   "id": "cb003a4d",
   "metadata": {},
   "outputs": [],
   "source": [
    "#file handling, reading text file to get api key\n",
    "txt = open(\"news_api.txt\", \"r\")\n",
    "api_key = txt.read()"
   ]
  },
  {
   "cell_type": "code",
   "execution_count": 9,
   "id": "0267b950",
   "metadata": {},
   "outputs": [
    {
     "name": "stdout",
     "output_type": "stream",
     "text": [
      "Collecting newsapi-python\n",
      "  Downloading newsapi_python-0.2.7-py2.py3-none-any.whl (7.9 kB)\n",
      "Requirement already satisfied: requests<3.0.0 in c:\\users\\acer\\appdata\\local\\programs\\python\\python39\\lib\\site-packages (from newsapi-python) (2.32.3)\n",
      "Requirement already satisfied: urllib3<3,>=1.21.1 in c:\\users\\acer\\appdata\\local\\programs\\python\\python39\\lib\\site-packages (from requests<3.0.0->newsapi-python) (1.26.6)\n",
      "Requirement already satisfied: charset-normalizer<4,>=2 in c:\\users\\acer\\appdata\\local\\programs\\python\\python39\\lib\\site-packages (from requests<3.0.0->newsapi-python) (2.0.3)\n",
      "Requirement already satisfied: idna<4,>=2.5 in c:\\users\\acer\\appdata\\local\\programs\\python\\python39\\lib\\site-packages (from requests<3.0.0->newsapi-python) (3.2)\n",
      "Requirement already satisfied: certifi>=2017.4.17 in c:\\users\\acer\\appdata\\local\\programs\\python\\python39\\lib\\site-packages (from requests<3.0.0->newsapi-python) (2023.7.22)\n",
      "Installing collected packages: newsapi-python\n",
      "Successfully installed newsapi-python-0.2.7\n",
      "Note: you may need to restart the kernel to use updated packages.\n"
     ]
    },
    {
     "name": "stderr",
     "output_type": "stream",
     "text": [
      "WARNING: You are using pip version 21.3.1; however, version 25.0.1 is available.\n",
      "You should consider upgrading via the 'c:\\Users\\ACer\\AppData\\Local\\Programs\\Python\\Python39\\python.exe -m pip install --upgrade pip' command.\n"
     ]
    }
   ],
   "source": [
    "pip install newsapi-python"
   ]
  },
  {
   "cell_type": "code",
   "execution_count": 59,
   "id": "d7c2b06c",
   "metadata": {},
   "outputs": [],
   "source": [
    "from newsapi import NewsApiClient\n",
    "\n",
    "#creating an object\n",
    "news = NewsApiClient(api_key= api_key)\n",
    "\n",
    "#news about\n",
    "query = \"IT sector\"\n",
    "\n",
    "#getting specific news\n",
    "articles_ibm_competitors = news.get_everything(q=\"IBM competitors\",\n",
    "                                     qintitle=\"IBM services and products\",\n",
    "                                    #   sources='The Times of India',\n",
    "                                    #   domains='timesofindia.indiatimes.com',\n",
    "                                      from_param='2025-04-01',\n",
    "                                      to='2025-04-07',\n",
    "                                      language='en',\n",
    "                                      sort_by='relevancy',\n",
    "                                      page=1)"
   ]
  },
  {
   "cell_type": "code",
   "execution_count": 70,
   "id": "fc76e51a",
   "metadata": {},
   "outputs": [
    {
     "data": {
      "text/html": [
       "<div>\n",
       "<style scoped>\n",
       "    .dataframe tbody tr th:only-of-type {\n",
       "        vertical-align: middle;\n",
       "    }\n",
       "\n",
       "    .dataframe tbody tr th {\n",
       "        vertical-align: top;\n",
       "    }\n",
       "\n",
       "    .dataframe thead th {\n",
       "        text-align: right;\n",
       "    }\n",
       "</style>\n",
       "<table border=\"1\" class=\"dataframe\">\n",
       "  <thead>\n",
       "    <tr style=\"text-align: right;\">\n",
       "      <th></th>\n",
       "      <th>title</th>\n",
       "      <th>description</th>\n",
       "      <th>content</th>\n",
       "      <th>url</th>\n",
       "      <th>author</th>\n",
       "      <th>publish_date</th>\n",
       "      <th>source</th>\n",
       "    </tr>\n",
       "  </thead>\n",
       "  <tbody>\n",
       "    <tr>\n",
       "      <th>0</th>\n",
       "      <td>IBM’s Enterprise AI Strategy: Trust, Scale, An...</td>\n",
       "      <td>IBM’s AI straetgy brings together software fro...</td>\n",
       "      <td>I\\r\\nWatsonx AI IBM generative AI platform dis...</td>\n",
       "      <td>https://www.forbes.com/sites/stevemcdowell/202...</td>\n",
       "      <td>Steve McDowell, Contributor, \\n Steve McDowell...</td>\n",
       "      <td>2025-04-01T01:29:16Z</td>\n",
       "      <td>Forbes</td>\n",
       "    </tr>\n",
       "    <tr>\n",
       "      <th>1</th>\n",
       "      <td>US Government says it will save $1m/year by ge...</td>\n",
       "      <td>DOGE didn’t say what the new media was only to...</td>\n",
       "      <td>&lt;ul&gt;&lt;li&gt;US GSA has decommissioned 14,000 tapes...</td>\n",
       "      <td>https://www.techradar.com/pro/us-government-sa...</td>\n",
       "      <td>desire.athow@futurenet.com (Desire Athow)</td>\n",
       "      <td>2025-04-07T10:15:00Z</td>\n",
       "      <td>TechRadar</td>\n",
       "    </tr>\n",
       "    <tr>\n",
       "      <th>2</th>\n",
       "      <td>Intel refreshes iconic brand with 'That's the ...</td>\n",
       "      <td>Intel revives and redefines its iconic 'Intel ...</td>\n",
       "      <td>Ever since Intel launched its ‘Intel Inside’ c...</td>\n",
       "      <td>https://www.tomshardware.com/tech-industry/int...</td>\n",
       "      <td>ashilov@gmail.com (Anton Shilov)</td>\n",
       "      <td>2025-04-03T11:12:03Z</td>\n",
       "      <td>Tom's Hardware UK</td>\n",
       "    </tr>\n",
       "    <tr>\n",
       "      <th>3</th>\n",
       "      <td>From cost-saver to growth engine: How business...</td>\n",
       "      <td>Moving beyond experimentation, enterprises in ...</td>\n",
       "      <td>Over the past year, 71 per cent of generative ...</td>\n",
       "      <td>https://www.channelnewsasia.com/brand-studio/c...</td>\n",
       "      <td>None</td>\n",
       "      <td>2025-04-02T01:23:42Z</td>\n",
       "      <td>CNA</td>\n",
       "    </tr>\n",
       "    <tr>\n",
       "      <th>4</th>\n",
       "      <td>Anticipating Google Cloud Next 2025: Cloud, Da...</td>\n",
       "      <td>This year's event is expected to reach beyond ...</td>\n",
       "      <td>The main stage at Google Cloud Next 2024.\\r\\nG...</td>\n",
       "      <td>https://www.forbes.com/sites/moorinsights/2025...</td>\n",
       "      <td>Robert Kramer, Contributor, \\n Robert Kramer, ...</td>\n",
       "      <td>2025-04-02T20:47:19Z</td>\n",
       "      <td>Forbes</td>\n",
       "    </tr>\n",
       "  </tbody>\n",
       "</table>\n",
       "</div>"
      ],
      "text/plain": [
       "                                               title  \\\n",
       "0  IBM’s Enterprise AI Strategy: Trust, Scale, An...   \n",
       "1  US Government says it will save $1m/year by ge...   \n",
       "2  Intel refreshes iconic brand with 'That's the ...   \n",
       "3  From cost-saver to growth engine: How business...   \n",
       "4  Anticipating Google Cloud Next 2025: Cloud, Da...   \n",
       "\n",
       "                                         description  \\\n",
       "0  IBM’s AI straetgy brings together software fro...   \n",
       "1  DOGE didn’t say what the new media was only to...   \n",
       "2  Intel revives and redefines its iconic 'Intel ...   \n",
       "3  Moving beyond experimentation, enterprises in ...   \n",
       "4  This year's event is expected to reach beyond ...   \n",
       "\n",
       "                                             content  \\\n",
       "0  I\\r\\nWatsonx AI IBM generative AI platform dis...   \n",
       "1  <ul><li>US GSA has decommissioned 14,000 tapes...   \n",
       "2  Ever since Intel launched its ‘Intel Inside’ c...   \n",
       "3  Over the past year, 71 per cent of generative ...   \n",
       "4  The main stage at Google Cloud Next 2024.\\r\\nG...   \n",
       "\n",
       "                                                 url  \\\n",
       "0  https://www.forbes.com/sites/stevemcdowell/202...   \n",
       "1  https://www.techradar.com/pro/us-government-sa...   \n",
       "2  https://www.tomshardware.com/tech-industry/int...   \n",
       "3  https://www.channelnewsasia.com/brand-studio/c...   \n",
       "4  https://www.forbes.com/sites/moorinsights/2025...   \n",
       "\n",
       "                                              author          publish_date  \\\n",
       "0  Steve McDowell, Contributor, \\n Steve McDowell...  2025-04-01T01:29:16Z   \n",
       "1          desire.athow@futurenet.com (Desire Athow)  2025-04-07T10:15:00Z   \n",
       "2                   ashilov@gmail.com (Anton Shilov)  2025-04-03T11:12:03Z   \n",
       "3                                               None  2025-04-02T01:23:42Z   \n",
       "4  Robert Kramer, Contributor, \\n Robert Kramer, ...  2025-04-02T20:47:19Z   \n",
       "\n",
       "              source  \n",
       "0             Forbes  \n",
       "1          TechRadar  \n",
       "2  Tom's Hardware UK  \n",
       "3                CNA  \n",
       "4             Forbes  "
      ]
     },
     "execution_count": 70,
     "metadata": {},
     "output_type": "execute_result"
    }
   ],
   "source": [
    "# creating a dictionary to store api fetched data\n",
    "ibm_competitors = {\n",
    "    \"title\" : [],\n",
    "    \"description\":[],\n",
    "    \"content\":[],\n",
    "    \"url\":[],\n",
    "    \"author\":[],\n",
    "    \"publish_date\":[],\n",
    "    \"source\":[]\n",
    "}\n",
    "\n",
    "for news in articles_ibm_competitors[\"articles\"]:\n",
    "    ibm_competitors[\"title\"].append(news[\"title\"])\n",
    "    ibm_competitors[\"description\"].append(news[\"description\"])\n",
    "    ibm_competitors[\"content\"].append(news[\"content\"])\n",
    "    ibm_competitors[\"url\"].append(news[\"url\"])\n",
    "    ibm_competitors[\"author\"].append(news[\"author\"])\n",
    "    ibm_competitors[\"publish_date\"].append(news[\"publishedAt\"])\n",
    "    ibm_competitors[\"source\"].append(news[\"source\"][\"name\"])\n",
    "\n",
    "\n",
    "#creating it into data frame\n",
    "import pandas as pd\n",
    "\n",
    "df = pd.DataFrame(ibm_competitors)\n",
    "df.head()\n"
   ]
  },
  {
   "cell_type": "code",
   "execution_count": 73,
   "id": "06aa7976",
   "metadata": {},
   "outputs": [
    {
     "name": "stdout",
     "output_type": "stream",
     "text": [
      "I\n",
      "Watsonx AI IBM generative AI platform displayed on a smartphone. On 10 August 2023 in Brussels, ... More Belgium. (Photo illustration by Jonathan Raa/NurPhoto via Getty Images)\n",
      "NurPhoto via Getty… [+7294 chars]\n"
     ]
    }
   ],
   "source": [
    "print(df[\"content\"][0])"
   ]
  },
  {
   "cell_type": "markdown",
   "id": "34dcb800",
   "metadata": {},
   "source": [
    "### Collecting IT sector textual data"
   ]
  },
  {
   "cell_type": "code",
   "execution_count": 9,
   "id": "ca03c590",
   "metadata": {},
   "outputs": [],
   "source": [
    "\n",
    "from newsapi import NewsApiClient\n",
    "\n",
    "#creating an object\n",
    "news = NewsApiClient(api_key= api_key)\n",
    "\n",
    "#news about\n",
    "#query = \"IT sector\"\n",
    "\n",
    "#getting specific news\n",
    "articles_it_sector = news.get_everything(q=\"Information Technology sector trends\",\n",
    "                                     qintitle=\"Information technology sector market trends analysis\",\n",
    "                                    #   sources='The Times of India',\n",
    "                                    #   domains='timesofindia.indiatimes.com',\n",
    "                                      from_param='2025-04-01',\n",
    "                                      to='2025-04-07',\n",
    "                                      language='en',\n",
    "                                      sort_by='relevancy',\n",
    "                                      page=1)"
   ]
  },
  {
   "cell_type": "code",
   "execution_count": 12,
   "id": "2cfaa24b",
   "metadata": {},
   "outputs": [
    {
     "data": {
      "text/html": [
       "<div>\n",
       "<style scoped>\n",
       "    .dataframe tbody tr th:only-of-type {\n",
       "        vertical-align: middle;\n",
       "    }\n",
       "\n",
       "    .dataframe tbody tr th {\n",
       "        vertical-align: top;\n",
       "    }\n",
       "\n",
       "    .dataframe thead th {\n",
       "        text-align: right;\n",
       "    }\n",
       "</style>\n",
       "<table border=\"1\" class=\"dataframe\">\n",
       "  <thead>\n",
       "    <tr style=\"text-align: right;\">\n",
       "      <th></th>\n",
       "      <th>title</th>\n",
       "      <th>description</th>\n",
       "      <th>content</th>\n",
       "      <th>publish_date</th>\n",
       "      <th>source</th>\n",
       "    </tr>\n",
       "  </thead>\n",
       "  <tbody>\n",
       "    <tr>\n",
       "      <th>0</th>\n",
       "      <td>A Look Ahead: 2025 Outsourcing Trends</td>\n",
       "      <td>Opportunities abound for BPO leaders in 2025.</td>\n",
       "      <td>Vidya Plainfield - Growth Officer at TechSpeed...</td>\n",
       "      <td>2025-04-07T12:45:00Z</td>\n",
       "      <td>Forbes</td>\n",
       "    </tr>\n",
       "    <tr>\n",
       "      <th>1</th>\n",
       "      <td>Key Cybersecurity Challenges In 2025—Trends An...</td>\n",
       "      <td>In 2025, cybersecurity is gaining significant ...</td>\n",
       "      <td>Digital 2025 Sign on Computer Code. 3D Render\\...</td>\n",
       "      <td>2025-04-05T23:34:46Z</td>\n",
       "      <td>Forbes</td>\n",
       "    </tr>\n",
       "    <tr>\n",
       "      <th>2</th>\n",
       "      <td>Master the World of Information Technology</td>\n",
       "      <td>Information Technology (IT) is the backbone of...</td>\n",
       "      <td>Information Technology (IT) is the backbone of...</td>\n",
       "      <td>2025-04-03T18:14:15Z</td>\n",
       "      <td>Typeforyou.org</td>\n",
       "    </tr>\n",
       "    <tr>\n",
       "      <th>3</th>\n",
       "      <td>AI In Manufacturing: Copilots Or Agents?</td>\n",
       "      <td>AI has already proven its abilities for manufa...</td>\n",
       "      <td>Raj Badarinath is Chief Product &amp;amp; Marketin...</td>\n",
       "      <td>2025-04-01T12:45:00Z</td>\n",
       "      <td>Forbes</td>\n",
       "    </tr>\n",
       "    <tr>\n",
       "      <th>4</th>\n",
       "      <td>Top 5 Promising Technology Trends in Digital M...</td>\n",
       "      <td>Digital marketing adapts to fast-paced consume...</td>\n",
       "      <td>Digital marketing adapts to fast-paced consume...</td>\n",
       "      <td>2025-04-02T15:29:07Z</td>\n",
       "      <td>Almostfearless.com</td>\n",
       "    </tr>\n",
       "  </tbody>\n",
       "</table>\n",
       "</div>"
      ],
      "text/plain": [
       "                                               title  \\\n",
       "0              A Look Ahead: 2025 Outsourcing Trends   \n",
       "1  Key Cybersecurity Challenges In 2025—Trends An...   \n",
       "2         Master the World of Information Technology   \n",
       "3           AI In Manufacturing: Copilots Or Agents?   \n",
       "4  Top 5 Promising Technology Trends in Digital M...   \n",
       "\n",
       "                                         description  \\\n",
       "0      Opportunities abound for BPO leaders in 2025.   \n",
       "1  In 2025, cybersecurity is gaining significant ...   \n",
       "2  Information Technology (IT) is the backbone of...   \n",
       "3  AI has already proven its abilities for manufa...   \n",
       "4  Digital marketing adapts to fast-paced consume...   \n",
       "\n",
       "                                             content          publish_date  \\\n",
       "0  Vidya Plainfield - Growth Officer at TechSpeed...  2025-04-07T12:45:00Z   \n",
       "1  Digital 2025 Sign on Computer Code. 3D Render\\...  2025-04-05T23:34:46Z   \n",
       "2  Information Technology (IT) is the backbone of...  2025-04-03T18:14:15Z   \n",
       "3  Raj Badarinath is Chief Product &amp; Marketin...  2025-04-01T12:45:00Z   \n",
       "4  Digital marketing adapts to fast-paced consume...  2025-04-02T15:29:07Z   \n",
       "\n",
       "               source  \n",
       "0              Forbes  \n",
       "1              Forbes  \n",
       "2      Typeforyou.org  \n",
       "3              Forbes  \n",
       "4  Almostfearless.com  "
      ]
     },
     "execution_count": 12,
     "metadata": {},
     "output_type": "execute_result"
    }
   ],
   "source": [
    "#creating a IT_sector dict and then transforming it into dataframe\n",
    "\n",
    "it_sector = {\n",
    "    \"title\" : [t[\"title\"] for t in articles_it_sector[\"articles\"]],\n",
    "    \"description\":[t[\"description\"] for t in articles_it_sector[\"articles\"]],\n",
    "    \"content\":[t[\"content\"] for t in articles_it_sector[\"articles\"]],\n",
    "    \"publish_date\":[t[\"publishedAt\"] for t in articles_it_sector[\"articles\"]],\n",
    "    \"source\":[t[\"source\"][\"name\"] for t in articles_it_sector[\"articles\"]]\n",
    "}\n",
    "\n",
    "import pandas as pd\n",
    "\n",
    "df2 = pd.DataFrame(it_sector)\n",
    "df2.head()\n"
   ]
  },
  {
   "cell_type": "code",
   "execution_count": 74,
   "id": "f2019d56",
   "metadata": {},
   "outputs": [],
   "source": [
    "df.to_csv(\"ibm_news.csv\", index=False)"
   ]
  },
  {
   "cell_type": "code",
   "execution_count": 13,
   "id": "525043c9",
   "metadata": {},
   "outputs": [],
   "source": [
    "df2.to_csv(\"it_sector_news.csv\", index=False)"
   ]
  },
  {
   "cell_type": "code",
   "execution_count": 23,
   "id": "a2cedc74",
   "metadata": {},
   "outputs": [],
   "source": [
    "news_sources = []\n",
    "# for news_channel in news.get_sources()[\"sources\"][\"name\"]:\n",
    "#     news_sources.append(news_channel)\n",
    "\n",
    "for news_channel in news.get_sources()[\"sources\"]:\n",
    "    news_sources.append(news_channel[\"name\"])"
   ]
  },
  {
   "cell_type": "code",
   "execution_count": 33,
   "id": "94b54a51",
   "metadata": {},
   "outputs": [
    {
     "name": "stdout",
     "output_type": "stream",
     "text": [
      "['ABC News', 'ABC News (AU)', 'Aftenposten', 'Al Jazeera English', 'ANSA.it', 'Argaam', 'Ars Technica', 'Ary News', 'Associated Press', 'Australian Financial Review', 'Axios', 'BBC News', 'BBC Sport', 'Bild', 'Blasting News (BR)', 'Bleacher Report', 'Bloomberg', 'Breitbart News', 'Business Insider', 'Buzzfeed', 'CBC News', 'CBS News', 'CNN', 'CNN Spanish', 'Crypto Coins News', 'Der Tagesspiegel', 'Die Zeit', 'El Mundo', 'Engadget', 'Entertainment Weekly', 'ESPN', 'ESPN Cric Info', 'Financial Post', 'Focus', 'Football Italia', 'Fortune', 'FourFourTwo', 'Fox News', 'Fox Sports', 'Globo', 'Google News', 'Google News (Argentina)', 'Google News (Australia)', 'Google News (Brasil)', 'Google News (Canada)', 'Google News (France)', 'Google News (India)', 'Google News (Israel)', 'Google News (Italy)', 'Google News (Russia)', 'Google News (Saudi Arabia)', 'Google News (UK)', 'Göteborgs-Posten', 'Gruenderszene', 'Hacker News', 'Handelsblatt', 'IGN', 'Il Sole 24 Ore', 'Independent', 'Infobae', 'InfoMoney', 'La Gaceta', 'La Nacion', 'La Repubblica', 'Le Monde', 'Lenta', \"L'equipe\", 'Les Echos', 'Libération', 'Marca', 'Mashable', 'Medical News Today', 'MSNBC', 'MTV News', 'MTV News (UK)', 'National Geographic', 'National Review', 'NBC News', 'News24', 'New Scientist', 'News.com.au', 'Newsweek', 'New York Magazine', 'Next Big Future', 'NFL News', 'NHL News', 'NRK', 'Politico', 'Polygon', 'RBC', 'Recode', 'Reddit /r/all', 'Reuters', 'RT', 'RTE', 'RTL Nieuws', 'SABQ', 'Spiegel Online', 'Svenska Dagbladet', 'T3n', 'TalkSport', 'TechCrunch', 'TechCrunch (CN)', 'TechRadar', 'The American Conservative', 'The Globe And Mail', 'The Hill', 'The Hindu', 'The Huffington Post', 'The Irish Times', 'The Jerusalem Post', 'The Lad Bible', 'The Next Web', 'The Sport Bible', 'The Times of India', 'The Verge', 'The Wall Street Journal', 'The Washington Post', 'The Washington Times', 'Time', 'USA Today', 'Vice News', 'Wired', 'Wired.de', 'Wirtschafts Woche', 'Xinhua Net', 'Ynet']\n"
     ]
    }
   ],
   "source": [
    "print(news_sources)"
   ]
  }
 ],
 "metadata": {
  "kernelspec": {
   "display_name": "Python 3",
   "language": "python",
   "name": "python3"
  },
  "language_info": {
   "codemirror_mode": {
    "name": "ipython",
    "version": 3
   },
   "file_extension": ".py",
   "mimetype": "text/x-python",
   "name": "python",
   "nbconvert_exporter": "python",
   "pygments_lexer": "ipython3",
   "version": "3.9.5"
  }
 },
 "nbformat": 4,
 "nbformat_minor": 5
}
